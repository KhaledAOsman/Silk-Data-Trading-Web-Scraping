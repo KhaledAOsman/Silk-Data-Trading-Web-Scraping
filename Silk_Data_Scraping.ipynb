{
 "cells": [
  {
   "cell_type": "code",
   "execution_count": 1,
   "id": "fbfff6f3",
   "metadata": {},
   "outputs": [],
   "source": [
    "import requests\n",
    "from bs4 import BeautifulSoup\n",
    "import csv\n"
   ]
  },
  {
   "cell_type": "code",
   "execution_count": 2,
   "id": "6ae51ec5",
   "metadata": {},
   "outputs": [],
   "source": [
    "page = requests.get(\"https://trendeconomy.com/data/commodity_h2/50\")"
   ]
  },
  {
   "cell_type": "code",
   "execution_count": 7,
   "id": "fb77c65e",
   "metadata": {},
   "outputs": [],
   "source": [
    "def main(page):\n",
    "    \n",
    "    source = page.content \n",
    "    soup= BeautifulSoup(source,\"html.parser\")\n",
    "    Silk_Data=[]\n",
    "    \n",
    "    tbody = soup.find('tbody')\n",
    "    rows = tbody.find_all('tr')\n",
    "    \n",
    "  \n",
    "    for row in rows:\n",
    "        country=row.find('td',{'class':'fl'})\n",
    "        country_text=f\"{country.text}\"\n",
    "\n",
    "        Value_Export=country.find_next()\n",
    "        Value_Export_text=f\"{Value_Export.text}\"\n",
    "\n",
    "\n",
    "        Value_Export_Share=Value_Export.find_next()\n",
    "        Value_Export_Share_text=f\"{Value_Export_Share.text}\"\n",
    "\n",
    "        Value_Import=Value_Export_Share.find_next()\n",
    "        Value_Import_text=f\"{Value_Import.text}\"\n",
    "\n",
    "\n",
    "        Value_Import_Share=Value_Import.find_next()\n",
    "        Value_Import_Share_text=f\" {Value_Import_Share.text}\"\n",
    "\n",
    "\n",
    "        Silk_Data.append({\"Country\":country_text,\"Value_Export\":Value_Export_text,\n",
    "                         \"Value_Export_Share\":Value_Export_Share_text,\"Value_Import\":Value_Import_text\n",
    "                        ,\"Value_Import_Share\":Value_Import_Share_text})\n",
    "        \n",
    "     \n",
    "    column_name = Silk_Data[0].keys()\n",
    "    with open('Documents\\Silk_Data.csv','w') as Data:\n",
    "            dict_writer = csv.DictWriter(Data,column_name)\n",
    "            dict_writer.writeheader()\n",
    "            dict_writer.writerows(Silk_Data)\n",
    "            print(\"Scraping was Done !\")\n",
    "\n",
    "        \n",
    "    \n",
    "  \n",
    "            \n",
    "     \n",
    "  "
   ]
  },
  {
   "cell_type": "code",
   "execution_count": 8,
   "id": "7b137340",
   "metadata": {},
   "outputs": [
    {
     "name": "stdout",
     "output_type": "stream",
     "text": [
      "Scraping was Done !\n"
     ]
    }
   ],
   "source": [
    "main(page)"
   ]
  },
  {
   "cell_type": "code",
   "execution_count": null,
   "id": "1661a830",
   "metadata": {},
   "outputs": [],
   "source": []
  },
  {
   "cell_type": "code",
   "execution_count": null,
   "id": "5b4b92d9",
   "metadata": {},
   "outputs": [],
   "source": []
  },
  {
   "cell_type": "code",
   "execution_count": null,
   "id": "c3be2493",
   "metadata": {},
   "outputs": [],
   "source": []
  }
 ],
 "metadata": {
  "kernelspec": {
   "display_name": "Python 3 (ipykernel)",
   "language": "python",
   "name": "python3"
  },
  "language_info": {
   "codemirror_mode": {
    "name": "ipython",
    "version": 3
   },
   "file_extension": ".py",
   "mimetype": "text/x-python",
   "name": "python",
   "nbconvert_exporter": "python",
   "pygments_lexer": "ipython3",
   "version": "3.9.13"
  }
 },
 "nbformat": 4,
 "nbformat_minor": 5
}
